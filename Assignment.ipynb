{
  "nbformat": 4,
  "nbformat_minor": 0,
  "metadata": {
    "colab": {
      "name": "Assignment.ipynb",
      "provenance": [],
      "collapsed_sections": []
    },
    "kernelspec": {
      "name": "python3",
      "display_name": "Python 3"
    }
  },
  "cells": [
    {
      "cell_type": "markdown",
      "metadata": {
        "id": "UccXryI7Dp9a"
      },
      "source": [
        "# Business Intelligence and Analytics - Assignment\n"
      ]
    },
    {
      "cell_type": "markdown",
      "metadata": {
        "id": "ha1yIISnEr50"
      },
      "source": [
        "Welcome to the Assignment! You have to complete this notebook to find the answers to the 14 questions below. The data needed can be found in the data subfolder.\n",
        "\n",
        "In order to properly submit the assignment, you will have to do **both** steps mentioned below. Both of these must be done on the Moodle page, right under the forums.\n",
        "- Answer the questions on the [quiz](https://moodle.unil.ch/mod/quiz/view.php?id=1029998).\n",
        "- Submit your [notebook](https://moodle.unil.ch/mod/assign/view.php?id=1034597).\n",
        "\n",
        "Make sure to follow all instructions carefully.\n",
        "\n",
        "Good luck!\n"
      ]
    },
    {
      "cell_type": "markdown",
      "metadata": {
        "id": "8PP_moZVXBk_"
      },
      "source": [
        "### Part 1 - Data Cleaning"
      ]
    },
    {
      "cell_type": "markdown",
      "metadata": {
        "id": "dn13IH-NJkhb"
      },
      "source": [
        "**IMPORTANT:** In this part, whenever you are asked to perform an operation on the DataFrame (dropping rows, changing datatypes, etc.), you should always continue the exercise with the altered DataFrame.\n",
        "\n",
        "First, begin by importing pandas."
      ]
    },
    {
      "cell_type": "code",
      "metadata": {
        "id": "VPUcTLlKZoZR"
      },
      "source": [
        "#TODO: IMPORT PANDAS\n",
        "import pandas as pd\n"
      ],
      "execution_count": null,
      "outputs": []
    },
    {
      "cell_type": "markdown",
      "metadata": {
        "id": "nJHd9UZbW7FR"
      },
      "source": [
        "Load the dataset that contains various information about every company on the 2018 edition of the Fortune 500 list. That list is an annual ranking of the 500 largest US corporations (by revenues). The individual columns should be self-explanatory.\n",
        "\n",
        "You have to find the corresponding url yourself. The dataset is located in the assignment folder under data. Taking a look at the raw data before loading it might be useful."
      ]
    },
    {
      "cell_type": "code",
      "metadata": {
        "id": "031zLoWPER9t",
        "colab": {
          "base_uri": "https://localhost:8080/",
          "height": 581
        },
        "outputId": "6bbbba07-7d5a-4f02-e750-e7061e2341de"
      },
      "source": [
        "#TODO: LOAD THE DATASET AND SHOW THE FIRST FEW ROWS\n",
        "url = 'https://raw.githubusercontent.com/michalis0/Business-Intelligence-and-Analytics/master/assignment/data/fortune500.csv'\n",
        "df = pd.read_csv(url, sep = ';')\n",
        "df.head()\n",
        "\n"
      ],
      "execution_count": null,
      "outputs": [
        {
          "output_type": "execute_result",
          "data": {
            "text/html": [
              "<div>\n",
              "<style scoped>\n",
              "    .dataframe tbody tr th:only-of-type {\n",
              "        vertical-align: middle;\n",
              "    }\n",
              "\n",
              "    .dataframe tbody tr th {\n",
              "        vertical-align: top;\n",
              "    }\n",
              "\n",
              "    .dataframe thead th {\n",
              "        text-align: right;\n",
              "    }\n",
              "</style>\n",
              "<table border=\"1\" class=\"dataframe\">\n",
              "  <thead>\n",
              "    <tr style=\"text-align: right;\">\n",
              "      <th></th>\n",
              "      <th>Rank</th>\n",
              "      <th>Company</th>\n",
              "      <th>Previous Rank</th>\n",
              "      <th>Revenues ($M)</th>\n",
              "      <th>Profits ($M)</th>\n",
              "      <th>Assets ($M)</th>\n",
              "      <th>Market Value ($M)</th>\n",
              "      <th>Employees</th>\n",
              "      <th>CEO</th>\n",
              "      <th>CEO Title</th>\n",
              "      <th>CEO Gender</th>\n",
              "      <th>Sector</th>\n",
              "      <th>Industry</th>\n",
              "      <th>Years on Fortune 500 List</th>\n",
              "      <th>City</th>\n",
              "      <th>State</th>\n",
              "      <th>Latitude</th>\n",
              "      <th>Longitude</th>\n",
              "    </tr>\n",
              "  </thead>\n",
              "  <tbody>\n",
              "    <tr>\n",
              "      <th>0</th>\n",
              "      <td>1</td>\n",
              "      <td>Walmart</td>\n",
              "      <td>1.0</td>\n",
              "      <td>500343.0</td>\n",
              "      <td>9862</td>\n",
              "      <td>204522</td>\n",
              "      <td>263563.0</td>\n",
              "      <td>2300000</td>\n",
              "      <td>C. Douglas McMillon</td>\n",
              "      <td>President, Chief Executive Officer &amp;  Director</td>\n",
              "      <td>Male</td>\n",
              "      <td>Retailing</td>\n",
              "      <td>General Merchandisers</td>\n",
              "      <td>24</td>\n",
              "      <td>Bentonville</td>\n",
              "      <td>AR</td>\n",
              "      <td>36.372854</td>\n",
              "      <td>-94.208817</td>\n",
              "    </tr>\n",
              "    <tr>\n",
              "      <th>1</th>\n",
              "      <td>2</td>\n",
              "      <td>Exxon Mobil</td>\n",
              "      <td>4.0</td>\n",
              "      <td>244363.0</td>\n",
              "      <td>19710</td>\n",
              "      <td>348691</td>\n",
              "      <td>316157.0</td>\n",
              "      <td>71200</td>\n",
              "      <td>Darren W. Woods</td>\n",
              "      <td>Chairman &amp;  Chief Executive Officer</td>\n",
              "      <td>Male</td>\n",
              "      <td>Energy</td>\n",
              "      <td>Petroleum Refining</td>\n",
              "      <td>24</td>\n",
              "      <td>Irving</td>\n",
              "      <td>TX</td>\n",
              "      <td>32.814018</td>\n",
              "      <td>-96.948894</td>\n",
              "    </tr>\n",
              "    <tr>\n",
              "      <th>2</th>\n",
              "      <td>3</td>\n",
              "      <td>Berkshire Hathaway</td>\n",
              "      <td>2.0</td>\n",
              "      <td>242137.0</td>\n",
              "      <td>44940</td>\n",
              "      <td>702095</td>\n",
              "      <td>492008.0</td>\n",
              "      <td>377000</td>\n",
              "      <td>Warren E. Buffett</td>\n",
              "      <td>Chairman, President &amp;  Chief Executive Officer</td>\n",
              "      <td>Male</td>\n",
              "      <td>Financials</td>\n",
              "      <td>Insurance: Property and Casualty (Stock)</td>\n",
              "      <td>24</td>\n",
              "      <td>Omaha</td>\n",
              "      <td>NE</td>\n",
              "      <td>41.256537</td>\n",
              "      <td>-95.934503</td>\n",
              "    </tr>\n",
              "    <tr>\n",
              "      <th>3</th>\n",
              "      <td>4</td>\n",
              "      <td>Apple</td>\n",
              "      <td>3.0</td>\n",
              "      <td>229234.0</td>\n",
              "      <td>48351</td>\n",
              "      <td>375319</td>\n",
              "      <td>851318.0</td>\n",
              "      <td>123000</td>\n",
              "      <td>Timothy D. Cook</td>\n",
              "      <td>Chairman &amp;  Chief Executive Officer</td>\n",
              "      <td>Male</td>\n",
              "      <td>Technology</td>\n",
              "      <td>Computers, Office Equipment</td>\n",
              "      <td>24</td>\n",
              "      <td>Cupertino</td>\n",
              "      <td>CA</td>\n",
              "      <td>37.322998</td>\n",
              "      <td>-122.032182</td>\n",
              "    </tr>\n",
              "    <tr>\n",
              "      <th>4</th>\n",
              "      <td>5</td>\n",
              "      <td>UnitedHealth Group</td>\n",
              "      <td>6.0</td>\n",
              "      <td>201159.0</td>\n",
              "      <td>10558</td>\n",
              "      <td>139058</td>\n",
              "      <td>207080.0</td>\n",
              "      <td>260000</td>\n",
              "      <td>David S. Wichmann</td>\n",
              "      <td>Chairman &amp;  Chief Executive Officer</td>\n",
              "      <td>Male</td>\n",
              "      <td>Health Care</td>\n",
              "      <td>Health Care: Insurance and Managed Care</td>\n",
              "      <td>24</td>\n",
              "      <td>Minnetonka</td>\n",
              "      <td>MN</td>\n",
              "      <td>44.921184</td>\n",
              "      <td>-93.468749</td>\n",
              "    </tr>\n",
              "  </tbody>\n",
              "</table>\n",
              "</div>"
            ],
            "text/plain": [
              "   Rank             Company  Previous Rank  ...  State   Latitude   Longitude\n",
              "0     1             Walmart            1.0  ...     AR  36.372854  -94.208817\n",
              "1     2         Exxon Mobil            4.0  ...     TX  32.814018  -96.948894\n",
              "2     3  Berkshire Hathaway            2.0  ...     NE  41.256537  -95.934503\n",
              "3     4               Apple            3.0  ...     CA  37.322998 -122.032182\n",
              "4     5  UnitedHealth Group            6.0  ...     MN  44.921184  -93.468749\n",
              "\n",
              "[5 rows x 18 columns]"
            ]
          },
          "metadata": {
            "tags": []
          },
          "execution_count": 15
        }
      ]
    },
    {
      "cell_type": "markdown",
      "metadata": {
        "id": "C4mwStdHarvF"
      },
      "source": [
        "#### Question 1: How many rows and columns does the DataFrame contain?"
      ]
    },
    {
      "cell_type": "code",
      "metadata": {
        "id": "NaywC2XKa63o",
        "colab": {
          "base_uri": "https://localhost:8080/"
        },
        "outputId": "907f2c77-c316-4499-d397-0b9e276d3087"
      },
      "source": [
        "#TODO: DISPLAY THE DIMENSIONS OF THE DATAFRAME\n",
        "df.shape\n"
      ],
      "execution_count": null,
      "outputs": [
        {
          "output_type": "execute_result",
          "data": {
            "text/plain": [
              "(500, 18)"
            ]
          },
          "metadata": {
            "tags": []
          },
          "execution_count": 16
        }
      ]
    },
    {
      "cell_type": "markdown",
      "metadata": {
        "id": "iFboYV5pYMZC"
      },
      "source": [
        "Now take a look at the datatypes of the columns."
      ]
    },
    {
      "cell_type": "code",
      "metadata": {
        "id": "C0yckbB-YEbL",
        "colab": {
          "base_uri": "https://localhost:8080/"
        },
        "outputId": "cd2b6bba-cd0f-45bd-b9ff-615303ddbb0c"
      },
      "source": [
        "#TODO: LOAD THE DATATYPES\n",
        "df.dtypes\n"
      ],
      "execution_count": null,
      "outputs": [
        {
          "output_type": "execute_result",
          "data": {
            "text/plain": [
              "Rank                           int64\n",
              "Company                       object\n",
              "Previous Rank                float64\n",
              "Revenues ($M)                float64\n",
              "Profits ($M)                  object\n",
              "Assets ($M)                    int64\n",
              "Market Value ($M)            float64\n",
              "Employees                      int64\n",
              "CEO                           object\n",
              "CEO Title                     object\n",
              "CEO Gender                    object\n",
              "Sector                        object\n",
              "Industry                      object\n",
              "Years on Fortune 500 List      int64\n",
              "City                          object\n",
              "State                         object\n",
              "Latitude                     float64\n",
              "Longitude                    float64\n",
              "dtype: object"
            ]
          },
          "metadata": {
            "tags": []
          },
          "execution_count": 17
        }
      ]
    },
    {
      "cell_type": "markdown",
      "metadata": {
        "id": "lEla5Rf0dPxN"
      },
      "source": [
        "We can see that there are several columns that should have a different datatype than what they currently do. Therefore you should now do the following transformations:\n",
        "\n",
        "| Columns | Wanted Datatype |\n",
        "| :---: | :---: |\n",
        "| Profits ($M) | Numerical continuous |\n",
        "| CEO Title | categorical nominal |\n",
        "| CEO Gender | categorical nominal |\n",
        "| Sector | categorical nominal |\n",
        "| Industry | categorical nominal |\n",
        "| State | categorical nominal |\n",
        "\n",
        "All invalid entries that cannot be converted should appear as null values in the DataFrame after you are done with the changes."
      ]
    },
    {
      "cell_type": "code",
      "metadata": {
        "id": "4sgLggGYZFV6",
        "colab": {
          "base_uri": "https://localhost:8080/"
        },
        "outputId": "f73cbf0f-d403-44cf-bd88-97a6080bdba3"
      },
      "source": [
        "#TODO: CHANGE THE DATATYPE OF THE COLUMNS MENTIONED ABOVE\n",
        "df[\"Profits ($M)\"] = pd.to_numeric(df[\"Profits ($M)\"], errors= 'coerce')\n",
        "df[\"CEO Title\"] =  pd.Categorical(df[\"CEO Title\"], ordered=False)\n",
        "df[\"CEO Gender\"] =  pd.Categorical(df[\"CEO Gender\"], ordered=False)\n",
        "df[\"Sector\"] =  pd.Categorical(df[\"Sector\"], ordered=False)\n",
        "df[\"Industry\"] =  pd.Categorical(df[\"Industry\"], ordered=False)\n",
        "df[\"State\"] =  pd.Categorical(df[\"State\"], ordered=False)\n",
        "df.dtypes\n"
      ],
      "execution_count": null,
      "outputs": [
        {
          "output_type": "execute_result",
          "data": {
            "text/plain": [
              "Rank                            int64\n",
              "Company                        object\n",
              "Previous Rank                 float64\n",
              "Revenues ($M)                 float64\n",
              "Profits ($M)                  float64\n",
              "Assets ($M)                     int64\n",
              "Market Value ($M)             float64\n",
              "Employees                       int64\n",
              "CEO                            object\n",
              "CEO Title                    category\n",
              "CEO Gender                   category\n",
              "Sector                       category\n",
              "Industry                     category\n",
              "Years on Fortune 500 List       int64\n",
              "City                           object\n",
              "State                        category\n",
              "Latitude                      float64\n",
              "Longitude                     float64\n",
              "dtype: object"
            ]
          },
          "metadata": {
            "tags": []
          },
          "execution_count": 18
        }
      ]
    },
    {
      "cell_type": "markdown",
      "metadata": {
        "id": "BpNjdMw-eGAl"
      },
      "source": [
        "We will not need the coordinates of the companies' headquarters. Drop the appropriate columns."
      ]
    },
    {
      "cell_type": "code",
      "metadata": {
        "id": "UmgQoDDCeQCU",
        "colab": {
          "base_uri": "https://localhost:8080/",
          "height": 442
        },
        "outputId": "f81571ce-5783-46af-88ee-01038e5d05da"
      },
      "source": [
        "#TODO: DROP THE COLUMNS CONTAINING THE COORDINATES\n",
        "dfdroped = df.drop(columns=['Latitude', 'Longitude'])\n",
        "dfdroped.head()\n",
        "\n"
      ],
      "execution_count": null,
      "outputs": [
        {
          "output_type": "execute_result",
          "data": {
            "text/html": [
              "<div>\n",
              "<style scoped>\n",
              "    .dataframe tbody tr th:only-of-type {\n",
              "        vertical-align: middle;\n",
              "    }\n",
              "\n",
              "    .dataframe tbody tr th {\n",
              "        vertical-align: top;\n",
              "    }\n",
              "\n",
              "    .dataframe thead th {\n",
              "        text-align: right;\n",
              "    }\n",
              "</style>\n",
              "<table border=\"1\" class=\"dataframe\">\n",
              "  <thead>\n",
              "    <tr style=\"text-align: right;\">\n",
              "      <th></th>\n",
              "      <th>Rank</th>\n",
              "      <th>Company</th>\n",
              "      <th>Previous Rank</th>\n",
              "      <th>Revenues ($M)</th>\n",
              "      <th>Profits ($M)</th>\n",
              "      <th>Assets ($M)</th>\n",
              "      <th>Market Value ($M)</th>\n",
              "      <th>Employees</th>\n",
              "      <th>CEO</th>\n",
              "      <th>CEO Title</th>\n",
              "      <th>CEO Gender</th>\n",
              "      <th>Sector</th>\n",
              "      <th>Industry</th>\n",
              "      <th>Years on Fortune 500 List</th>\n",
              "      <th>City</th>\n",
              "      <th>State</th>\n",
              "    </tr>\n",
              "  </thead>\n",
              "  <tbody>\n",
              "    <tr>\n",
              "      <th>0</th>\n",
              "      <td>1</td>\n",
              "      <td>Walmart</td>\n",
              "      <td>1.0</td>\n",
              "      <td>500343.0</td>\n",
              "      <td>9862.0</td>\n",
              "      <td>204522</td>\n",
              "      <td>263563.0</td>\n",
              "      <td>2300000</td>\n",
              "      <td>C. Douglas McMillon</td>\n",
              "      <td>President, Chief Executive Officer &amp;  Director</td>\n",
              "      <td>Male</td>\n",
              "      <td>Retailing</td>\n",
              "      <td>General Merchandisers</td>\n",
              "      <td>24</td>\n",
              "      <td>Bentonville</td>\n",
              "      <td>AR</td>\n",
              "    </tr>\n",
              "    <tr>\n",
              "      <th>1</th>\n",
              "      <td>2</td>\n",
              "      <td>Exxon Mobil</td>\n",
              "      <td>4.0</td>\n",
              "      <td>244363.0</td>\n",
              "      <td>19710.0</td>\n",
              "      <td>348691</td>\n",
              "      <td>316157.0</td>\n",
              "      <td>71200</td>\n",
              "      <td>Darren W. Woods</td>\n",
              "      <td>Chairman &amp;  Chief Executive Officer</td>\n",
              "      <td>Male</td>\n",
              "      <td>Energy</td>\n",
              "      <td>Petroleum Refining</td>\n",
              "      <td>24</td>\n",
              "      <td>Irving</td>\n",
              "      <td>TX</td>\n",
              "    </tr>\n",
              "    <tr>\n",
              "      <th>2</th>\n",
              "      <td>3</td>\n",
              "      <td>Berkshire Hathaway</td>\n",
              "      <td>2.0</td>\n",
              "      <td>242137.0</td>\n",
              "      <td>44940.0</td>\n",
              "      <td>702095</td>\n",
              "      <td>492008.0</td>\n",
              "      <td>377000</td>\n",
              "      <td>Warren E. Buffett</td>\n",
              "      <td>Chairman, President &amp;  Chief Executive Officer</td>\n",
              "      <td>Male</td>\n",
              "      <td>Financials</td>\n",
              "      <td>Insurance: Property and Casualty (Stock)</td>\n",
              "      <td>24</td>\n",
              "      <td>Omaha</td>\n",
              "      <td>NE</td>\n",
              "    </tr>\n",
              "    <tr>\n",
              "      <th>3</th>\n",
              "      <td>4</td>\n",
              "      <td>Apple</td>\n",
              "      <td>3.0</td>\n",
              "      <td>229234.0</td>\n",
              "      <td>48351.0</td>\n",
              "      <td>375319</td>\n",
              "      <td>851318.0</td>\n",
              "      <td>123000</td>\n",
              "      <td>Timothy D. Cook</td>\n",
              "      <td>Chairman &amp;  Chief Executive Officer</td>\n",
              "      <td>Male</td>\n",
              "      <td>Technology</td>\n",
              "      <td>Computers, Office Equipment</td>\n",
              "      <td>24</td>\n",
              "      <td>Cupertino</td>\n",
              "      <td>CA</td>\n",
              "    </tr>\n",
              "    <tr>\n",
              "      <th>4</th>\n",
              "      <td>5</td>\n",
              "      <td>UnitedHealth Group</td>\n",
              "      <td>6.0</td>\n",
              "      <td>201159.0</td>\n",
              "      <td>10558.0</td>\n",
              "      <td>139058</td>\n",
              "      <td>207080.0</td>\n",
              "      <td>260000</td>\n",
              "      <td>David S. Wichmann</td>\n",
              "      <td>Chairman &amp;  Chief Executive Officer</td>\n",
              "      <td>Male</td>\n",
              "      <td>Health Care</td>\n",
              "      <td>Health Care: Insurance and Managed Care</td>\n",
              "      <td>24</td>\n",
              "      <td>Minnetonka</td>\n",
              "      <td>MN</td>\n",
              "    </tr>\n",
              "  </tbody>\n",
              "</table>\n",
              "</div>"
            ],
            "text/plain": [
              "   Rank             Company  ...         City  State\n",
              "0     1             Walmart  ...  Bentonville     AR\n",
              "1     2         Exxon Mobil  ...       Irving     TX\n",
              "2     3  Berkshire Hathaway  ...        Omaha     NE\n",
              "3     4               Apple  ...    Cupertino     CA\n",
              "4     5  UnitedHealth Group  ...   Minnetonka     MN\n",
              "\n",
              "[5 rows x 16 columns]"
            ]
          },
          "metadata": {
            "tags": []
          },
          "execution_count": 19
        }
      ]
    },
    {
      "cell_type": "markdown",
      "metadata": {
        "id": "svYbRowdbTLz"
      },
      "source": [
        ":#### Question 2: What column has the most missing values?\n",
        "\n",
        "\n"
      ]
    },
    {
      "cell_type": "code",
      "metadata": {
        "id": "odx0CWM6abI6",
        "colab": {
          "base_uri": "https://localhost:8080/"
        },
        "outputId": "804351b3-4e5e-4f03-f58b-963ed6877c7e"
      },
      "source": [
        "#TODO: COMPUTE THE NUMBER OF MISSING VALUES PER COLUMN\n",
        "total = dfdroped.isnull().sum().sort_values(ascending=False)\n",
        "total"
      ],
      "execution_count": null,
      "outputs": [
        {
          "output_type": "execute_result",
          "data": {
            "text/plain": [
              "Market Value ($M)            28\n",
              "Industry                      8\n",
              "CEO                           7\n",
              "Profits ($M)                  7\n",
              "Previous Rank                 5\n",
              "Sector                        2\n",
              "CEO Title                     2\n",
              "State                         0\n",
              "City                          0\n",
              "Years on Fortune 500 List     0\n",
              "CEO Gender                    0\n",
              "Employees                     0\n",
              "Assets ($M)                   0\n",
              "Revenues ($M)                 0\n",
              "Company                       0\n",
              "Rank                          0\n",
              "dtype: int64"
            ]
          },
          "metadata": {
            "tags": []
          },
          "execution_count": 20
        }
      ]
    },
    {
      "cell_type": "markdown",
      "metadata": {
        "id": "Vz2gq2erbYKu"
      },
      "source": [
        "Drop the rows with missing values."
      ]
    },
    {
      "cell_type": "code",
      "metadata": {
        "id": "V40dvDEVbgMP",
        "colab": {
          "base_uri": "https://localhost:8080/"
        },
        "outputId": "37f82433-08d7-40ea-f20b-4c151e730c2a"
      },
      "source": [
        "#TODO: DROP THE ROWS WITH MISSING VALUES\n",
        "dfdroped = dfdroped.dropna()\n",
        "dfdroped.shape"
      ],
      "execution_count": null,
      "outputs": [
        {
          "output_type": "execute_result",
          "data": {
            "text/plain": [
              "(445, 16)"
            ]
          },
          "metadata": {
            "tags": []
          },
          "execution_count": 21
        }
      ]
    },
    {
      "cell_type": "markdown",
      "metadata": {
        "id": "1-JSGPn9bw2V"
      },
      "source": [
        "#### Question 3: How many rows were dropped?"
      ]
    },
    {
      "cell_type": "code",
      "metadata": {
        "id": "5FeB2v6Vbssr",
        "colab": {
          "base_uri": "https://localhost:8080/"
        },
        "outputId": "2060a97f-0752-4678-bb1a-b2dc4302ccc1"
      },
      "source": [
        "#TODO: COMPUTE THE AMOUNT OF ROWS THAT WERE DROPPED\n",
        "print('we dropped', 500 - len(dfdroped), 'rows')"
      ],
      "execution_count": null,
      "outputs": [
        {
          "output_type": "stream",
          "text": [
            "we dropped 55 rows\n"
          ],
          "name": "stdout"
        }
      ]
    },
    {
      "cell_type": "markdown",
      "metadata": {
        "id": "cC-9OlDzckYS"
      },
      "source": [
        "#### Question 4: What percentage of CEOs are women? (Round to two decimals)\n",
        "\n",
        "(1.01% should be entered as 1.01)"
      ]
    },
    {
      "cell_type": "code",
      "metadata": {
        "id": "uKuFaTE0cti4",
        "colab": {
          "base_uri": "https://localhost:8080/"
        },
        "outputId": "1a355b82-045f-46a4-a9f2-fd3c78a4d603"
      },
      "source": [
        "#TODO: COMPUTE THE PERCENTAGE OF WOMEN CEOs\n",
        "WomenCeos = sum(dfdroped['CEO Gender'] == 'Female')\n",
        "AllCeos = len(dfdroped)\n",
        "WomenCeosPerc =  round(100*WomenCeos/AllCeos, ndigits=2)\n",
        "print(WomenCeosPerc, \"% of CEOs are women\")\n",
        "\n",
        "\n"
      ],
      "execution_count": null,
      "outputs": [
        {
          "output_type": "stream",
          "text": [
            "5.17 % of CEOs are women\n"
          ],
          "name": "stdout"
        }
      ]
    },
    {
      "cell_type": "markdown",
      "metadata": {
        "id": "x2M4GRWehmkz"
      },
      "source": [
        "We are now interested in the change in rank each company made over the past year."
      ]
    },
    {
      "cell_type": "code",
      "metadata": {
        "id": "2CZBHg6Shunq",
        "colab": {
          "base_uri": "https://localhost:8080/",
          "height": 581
        },
        "outputId": "688a341d-1131-4d2b-ba9c-988b5f692396"
      },
      "source": [
        "#TODO: ADD A COLUMN THAT MEASURES HOW MANY RANKS EACH COMPANY HAS GAINED\n",
        "dfdroped.loc[:, 'Evolution'] = dfdroped['Previous Rank'] - dfdroped['Rank']\n",
        "dfdroped.head()"
      ],
      "execution_count": null,
      "outputs": [
        {
          "output_type": "execute_result",
          "data": {
            "text/html": [
              "<div>\n",
              "<style scoped>\n",
              "    .dataframe tbody tr th:only-of-type {\n",
              "        vertical-align: middle;\n",
              "    }\n",
              "\n",
              "    .dataframe tbody tr th {\n",
              "        vertical-align: top;\n",
              "    }\n",
              "\n",
              "    .dataframe thead th {\n",
              "        text-align: right;\n",
              "    }\n",
              "</style>\n",
              "<table border=\"1\" class=\"dataframe\">\n",
              "  <thead>\n",
              "    <tr style=\"text-align: right;\">\n",
              "      <th></th>\n",
              "      <th>Rank</th>\n",
              "      <th>Company</th>\n",
              "      <th>Previous Rank</th>\n",
              "      <th>Revenues ($M)</th>\n",
              "      <th>Profits ($M)</th>\n",
              "      <th>Assets ($M)</th>\n",
              "      <th>Market Value ($M)</th>\n",
              "      <th>Employees</th>\n",
              "      <th>CEO</th>\n",
              "      <th>CEO Title</th>\n",
              "      <th>CEO Gender</th>\n",
              "      <th>Sector</th>\n",
              "      <th>Industry</th>\n",
              "      <th>Years on Fortune 500 List</th>\n",
              "      <th>City</th>\n",
              "      <th>State</th>\n",
              "      <th>Evolution</th>\n",
              "    </tr>\n",
              "  </thead>\n",
              "  <tbody>\n",
              "    <tr>\n",
              "      <th>0</th>\n",
              "      <td>1</td>\n",
              "      <td>Walmart</td>\n",
              "      <td>1.0</td>\n",
              "      <td>500343.0</td>\n",
              "      <td>9862.0</td>\n",
              "      <td>204522</td>\n",
              "      <td>263563.0</td>\n",
              "      <td>2300000</td>\n",
              "      <td>C. Douglas McMillon</td>\n",
              "      <td>President, Chief Executive Officer &amp;  Director</td>\n",
              "      <td>Male</td>\n",
              "      <td>Retailing</td>\n",
              "      <td>General Merchandisers</td>\n",
              "      <td>24</td>\n",
              "      <td>Bentonville</td>\n",
              "      <td>AR</td>\n",
              "      <td>0.0</td>\n",
              "    </tr>\n",
              "    <tr>\n",
              "      <th>1</th>\n",
              "      <td>2</td>\n",
              "      <td>Exxon Mobil</td>\n",
              "      <td>4.0</td>\n",
              "      <td>244363.0</td>\n",
              "      <td>19710.0</td>\n",
              "      <td>348691</td>\n",
              "      <td>316157.0</td>\n",
              "      <td>71200</td>\n",
              "      <td>Darren W. Woods</td>\n",
              "      <td>Chairman &amp;  Chief Executive Officer</td>\n",
              "      <td>Male</td>\n",
              "      <td>Energy</td>\n",
              "      <td>Petroleum Refining</td>\n",
              "      <td>24</td>\n",
              "      <td>Irving</td>\n",
              "      <td>TX</td>\n",
              "      <td>2.0</td>\n",
              "    </tr>\n",
              "    <tr>\n",
              "      <th>2</th>\n",
              "      <td>3</td>\n",
              "      <td>Berkshire Hathaway</td>\n",
              "      <td>2.0</td>\n",
              "      <td>242137.0</td>\n",
              "      <td>44940.0</td>\n",
              "      <td>702095</td>\n",
              "      <td>492008.0</td>\n",
              "      <td>377000</td>\n",
              "      <td>Warren E. Buffett</td>\n",
              "      <td>Chairman, President &amp;  Chief Executive Officer</td>\n",
              "      <td>Male</td>\n",
              "      <td>Financials</td>\n",
              "      <td>Insurance: Property and Casualty (Stock)</td>\n",
              "      <td>24</td>\n",
              "      <td>Omaha</td>\n",
              "      <td>NE</td>\n",
              "      <td>-1.0</td>\n",
              "    </tr>\n",
              "    <tr>\n",
              "      <th>3</th>\n",
              "      <td>4</td>\n",
              "      <td>Apple</td>\n",
              "      <td>3.0</td>\n",
              "      <td>229234.0</td>\n",
              "      <td>48351.0</td>\n",
              "      <td>375319</td>\n",
              "      <td>851318.0</td>\n",
              "      <td>123000</td>\n",
              "      <td>Timothy D. Cook</td>\n",
              "      <td>Chairman &amp;  Chief Executive Officer</td>\n",
              "      <td>Male</td>\n",
              "      <td>Technology</td>\n",
              "      <td>Computers, Office Equipment</td>\n",
              "      <td>24</td>\n",
              "      <td>Cupertino</td>\n",
              "      <td>CA</td>\n",
              "      <td>-1.0</td>\n",
              "    </tr>\n",
              "    <tr>\n",
              "      <th>4</th>\n",
              "      <td>5</td>\n",
              "      <td>UnitedHealth Group</td>\n",
              "      <td>6.0</td>\n",
              "      <td>201159.0</td>\n",
              "      <td>10558.0</td>\n",
              "      <td>139058</td>\n",
              "      <td>207080.0</td>\n",
              "      <td>260000</td>\n",
              "      <td>David S. Wichmann</td>\n",
              "      <td>Chairman &amp;  Chief Executive Officer</td>\n",
              "      <td>Male</td>\n",
              "      <td>Health Care</td>\n",
              "      <td>Health Care: Insurance and Managed Care</td>\n",
              "      <td>24</td>\n",
              "      <td>Minnetonka</td>\n",
              "      <td>MN</td>\n",
              "      <td>1.0</td>\n",
              "    </tr>\n",
              "  </tbody>\n",
              "</table>\n",
              "</div>"
            ],
            "text/plain": [
              "   Rank             Company  Previous Rank  ...         City  State  Evolution\n",
              "0     1             Walmart            1.0  ...  Bentonville     AR        0.0\n",
              "1     2         Exxon Mobil            4.0  ...       Irving     TX        2.0\n",
              "2     3  Berkshire Hathaway            2.0  ...        Omaha     NE       -1.0\n",
              "3     4               Apple            3.0  ...    Cupertino     CA       -1.0\n",
              "4     5  UnitedHealth Group            6.0  ...   Minnetonka     MN        1.0\n",
              "\n",
              "[5 rows x 17 columns]"
            ]
          },
          "metadata": {
            "tags": []
          },
          "execution_count": 24
        }
      ]
    },
    {
      "cell_type": "markdown",
      "metadata": {
        "id": "cHr-_fC9h5UV"
      },
      "source": [
        "#### Question 5: What company gained the most ranks?"
      ]
    },
    {
      "cell_type": "code",
      "metadata": {
        "id": "GieI8avqiCT5",
        "colab": {
          "base_uri": "https://localhost:8080/",
          "height": 182
        },
        "outputId": "6bf5f9ba-4146-4632-a0af-aeb1454be5e1"
      },
      "source": [
        "#TODO: FIND THE COMPANY THAT GAINED THE MOST RANKS\n",
        "mostRanks = dfdroped['Evolution'] == dfdroped['Evolution'].max()\n",
        "Comp = dfdroped[mostRanks]\n",
        "Comp\n"
      ],
      "execution_count": null,
      "outputs": [
        {
          "output_type": "execute_result",
          "data": {
            "text/html": [
              "<div>\n",
              "<style scoped>\n",
              "    .dataframe tbody tr th:only-of-type {\n",
              "        vertical-align: middle;\n",
              "    }\n",
              "\n",
              "    .dataframe tbody tr th {\n",
              "        vertical-align: top;\n",
              "    }\n",
              "\n",
              "    .dataframe thead th {\n",
              "        text-align: right;\n",
              "    }\n",
              "</style>\n",
              "<table border=\"1\" class=\"dataframe\">\n",
              "  <thead>\n",
              "    <tr style=\"text-align: right;\">\n",
              "      <th></th>\n",
              "      <th>Rank</th>\n",
              "      <th>Company</th>\n",
              "      <th>Previous Rank</th>\n",
              "      <th>Revenues ($M)</th>\n",
              "      <th>Profits ($M)</th>\n",
              "      <th>Assets ($M)</th>\n",
              "      <th>Market Value ($M)</th>\n",
              "      <th>Employees</th>\n",
              "      <th>CEO</th>\n",
              "      <th>CEO Title</th>\n",
              "      <th>CEO Gender</th>\n",
              "      <th>Sector</th>\n",
              "      <th>Industry</th>\n",
              "      <th>Years on Fortune 500 List</th>\n",
              "      <th>City</th>\n",
              "      <th>State</th>\n",
              "      <th>Evolution</th>\n",
              "    </tr>\n",
              "  </thead>\n",
              "  <tbody>\n",
              "    <tr>\n",
              "      <th>274</th>\n",
              "      <td>275</td>\n",
              "      <td>Molson Coors Brewing</td>\n",
              "      <td>522.0</td>\n",
              "      <td>11003.0</td>\n",
              "      <td>1414.2</td>\n",
              "      <td>30247</td>\n",
              "      <td>16238.0</td>\n",
              "      <td>17200</td>\n",
              "      <td>Mark R. Hunter</td>\n",
              "      <td>President, Chief Executive Officer &amp;  Director</td>\n",
              "      <td>Male</td>\n",
              "      <td>Food, Beverages &amp;  Tobacco</td>\n",
              "      <td>Beverages</td>\n",
              "      <td>8</td>\n",
              "      <td>Denver</td>\n",
              "      <td>CO</td>\n",
              "      <td>247.0</td>\n",
              "    </tr>\n",
              "  </tbody>\n",
              "</table>\n",
              "</div>"
            ],
            "text/plain": [
              "     Rank               Company  Previous Rank  ...    City  State  Evolution\n",
              "274   275  Molson Coors Brewing          522.0  ...  Denver     CO      247.0\n",
              "\n",
              "[1 rows x 17 columns]"
            ]
          },
          "metadata": {
            "tags": []
          },
          "execution_count": 25
        }
      ]
    },
    {
      "cell_type": "markdown",
      "metadata": {
        "id": "R_TyQW50iOV9"
      },
      "source": [
        "### Part 2 - Regression \n",
        "\n",
        "For this part, you are going to build a linear regression model on crypto-currency trades. Each column of the dataset stands for: \n",
        "\n",
        "\n",
        "*   Name - the stock's ticker name\n",
        "*   Date - in format: yy-mm-dd\n",
        "*   Open - price of the stock when the market opened (NYSE data therefore all in USD)\n",
        "*   High - Highest price the stock reached that day\n",
        "*   Close - price of the stock when the market closed (NYSE data therefore all in USD)\n",
        "*   Volume - Number of shares traded that day\n",
        "*   Market -  Total amount of trades on the market that day\n",
        "*   spread - Trading metric \n",
        "\n",
        "\n",
        "\n",
        "**Task:** Build a linear regression model for the **closing price** of Bitcoin related crypto currencies using the following attributes: \n",
        "\n",
        "[\"name\", \"date\", \"open\", \"high\", \"low\", \"volume\",\t\"market\",\t\"spread\"]\n",
        "\n",
        "First, load the data and make a simple datatype conversion.\n",
        "\n"
      ]
    },
    {
      "cell_type": "code",
      "metadata": {
        "id": "Xan_rH2uZMYT",
        "colab": {
          "base_uri": "https://localhost:8080/",
          "height": 309
        },
        "outputId": "76033f60-60c9-4d4c-dc7b-8490dcb9167d"
      },
      "source": [
        "#TODO: RUN THE CELL TO FETCH DATA AND START WORKING \n",
        "url = 'https://storage.googleapis.com/unil_bia/cryptocurrencies.csv'\n",
        "df = pd.read_csv(url, parse_dates=[\"date\"],date_parser= pd.to_datetime)\n",
        "df.head()"
      ],
      "execution_count": null,
      "outputs": [
        {
          "output_type": "execute_result",
          "data": {
            "text/html": [
              "<div>\n",
              "<style scoped>\n",
              "    .dataframe tbody tr th:only-of-type {\n",
              "        vertical-align: middle;\n",
              "    }\n",
              "\n",
              "    .dataframe tbody tr th {\n",
              "        vertical-align: top;\n",
              "    }\n",
              "\n",
              "    .dataframe thead th {\n",
              "        text-align: right;\n",
              "    }\n",
              "</style>\n",
              "<table border=\"1\" class=\"dataframe\">\n",
              "  <thead>\n",
              "    <tr style=\"text-align: right;\">\n",
              "      <th></th>\n",
              "      <th>name</th>\n",
              "      <th>date</th>\n",
              "      <th>open</th>\n",
              "      <th>high</th>\n",
              "      <th>low</th>\n",
              "      <th>close</th>\n",
              "      <th>volume</th>\n",
              "      <th>market</th>\n",
              "      <th>close_ratio</th>\n",
              "      <th>spread</th>\n",
              "    </tr>\n",
              "  </thead>\n",
              "  <tbody>\n",
              "    <tr>\n",
              "      <th>0</th>\n",
              "      <td>Bitcoin</td>\n",
              "      <td>2013-04-28</td>\n",
              "      <td>135.255145</td>\n",
              "      <td>135.986539</td>\n",
              "      <td>132.112308</td>\n",
              "      <td>134.233987</td>\n",
              "      <td>-0.102051</td>\n",
              "      <td>1.488567e+09</td>\n",
              "      <td>0.669039</td>\n",
              "      <td>3.817072</td>\n",
              "    </tr>\n",
              "    <tr>\n",
              "      <th>1</th>\n",
              "      <td>Bitcoin</td>\n",
              "      <td>2013-04-29</td>\n",
              "      <td>134.502146</td>\n",
              "      <td>147.594147</td>\n",
              "      <td>133.974345</td>\n",
              "      <td>144.426900</td>\n",
              "      <td>0.089815</td>\n",
              "      <td>1.603769e+09</td>\n",
              "      <td>0.812517</td>\n",
              "      <td>13.470633</td>\n",
              "    </tr>\n",
              "    <tr>\n",
              "      <th>2</th>\n",
              "      <td>Bitcoin</td>\n",
              "      <td>2013-04-30</td>\n",
              "      <td>144.034751</td>\n",
              "      <td>146.889644</td>\n",
              "      <td>134.002753</td>\n",
              "      <td>138.996846</td>\n",
              "      <td>0.003391</td>\n",
              "      <td>1.542813e+09</td>\n",
              "      <td>0.381134</td>\n",
              "      <td>13.022239</td>\n",
              "    </tr>\n",
              "    <tr>\n",
              "      <th>3</th>\n",
              "      <td>Bitcoin</td>\n",
              "      <td>2013-05-01</td>\n",
              "      <td>139.053026</td>\n",
              "      <td>139.927856</td>\n",
              "      <td>107.722048</td>\n",
              "      <td>117.097449</td>\n",
              "      <td>0.025182</td>\n",
              "      <td>1.298955e+09</td>\n",
              "      <td>0.346369</td>\n",
              "      <td>32.148365</td>\n",
              "    </tr>\n",
              "    <tr>\n",
              "      <th>4</th>\n",
              "      <td>Bitcoin</td>\n",
              "      <td>2013-05-02</td>\n",
              "      <td>116.372753</td>\n",
              "      <td>125.486945</td>\n",
              "      <td>92.185492</td>\n",
              "      <td>105.125030</td>\n",
              "      <td>-0.025268</td>\n",
              "      <td>1.168517e+09</td>\n",
              "      <td>0.538017</td>\n",
              "      <td>33.301740</td>\n",
              "    </tr>\n",
              "  </tbody>\n",
              "</table>\n",
              "</div>"
            ],
            "text/plain": [
              "      name       date        open  ...        market  close_ratio     spread\n",
              "0  Bitcoin 2013-04-28  135.255145  ...  1.488567e+09     0.669039   3.817072\n",
              "1  Bitcoin 2013-04-29  134.502146  ...  1.603769e+09     0.812517  13.470633\n",
              "2  Bitcoin 2013-04-30  144.034751  ...  1.542813e+09     0.381134  13.022239\n",
              "3  Bitcoin 2013-05-01  139.053026  ...  1.298955e+09     0.346369  32.148365\n",
              "4  Bitcoin 2013-05-02  116.372753  ...  1.168517e+09     0.538017  33.301740\n",
              "\n",
              "[5 rows x 10 columns]"
            ]
          },
          "metadata": {
            "tags": []
          },
          "execution_count": 26
        }
      ]
    },
    {
      "cell_type": "code",
      "metadata": {
        "id": "mYBkOgf6g1wL"
      },
      "source": [
        "#RUN TO TURN DATE DATA TO USABLE TYPE (INT)\n",
        "from datetime import datetime\n",
        "df.date=df.date.map(datetime.toordinal)\n"
      ],
      "execution_count": null,
      "outputs": []
    },
    {
      "cell_type": "markdown",
      "metadata": {
        "id": "-rXCknO3WphB"
      },
      "source": [
        "You will now build the regression model."
      ]
    },
    {
      "cell_type": "markdown",
      "metadata": {
        "id": "Xb5vdjkLnrCL"
      },
      "source": [
        "\n",
        "\n",
        "\n",
        "#### Question 6: How many Bitcoin related cryptos are in the dataset?\n",
        "\n",
        " > _Hint_: Bitcoin related crypto currencies all start with \"Bitcoin\"\n",
        "\n",
        "\n"
      ]
    },
    {
      "cell_type": "code",
      "metadata": {
        "id": "BDW6nW5NPzGp",
        "colab": {
          "base_uri": "https://localhost:8080/"
        },
        "outputId": "727e3c93-1a8d-4c3f-8eea-be937bb45340"
      },
      "source": [
        "#TODO: WRITE CODE TO GET ALL BITCOIN RELATED CRYPTO INTO A SEPARATE DATAFRAME\n",
        "#HINT: look up str.startswith\n",
        "\n",
        "\n",
        "bitcoin = df['name'].str.startswith('Bitcoin')\n",
        "\n",
        "bitcoinRelated = df[bitcoin]\n",
        "\n",
        "count = bitcoinRelated['name'].value_counts().to_frame()\n",
        "count.shape\n",
        "\n"
      ],
      "execution_count": null,
      "outputs": [
        {
          "output_type": "execute_result",
          "data": {
            "text/plain": [
              "(26, 1)"
            ]
          },
          "metadata": {
            "tags": []
          },
          "execution_count": 28
        }
      ]
    },
    {
      "cell_type": "code",
      "metadata": {
        "id": "oI7tncDVF249"
      },
      "source": [
        "#TODO WRITE CODE TO SELECT FEATURES OF INTEREST IN THE DATA SET AND APPLY APPROPRIATE TRANSFORMATION\n",
        "#HINT: use DataFrame indexing, look up the functions datetime.toordinal, .get_dummies\n",
        "#DATAFRAME WITH THE INDEPENDENT VARIABLES\n",
        "\n",
        "\n",
        "dummies = pd.get_dummies(bitcoinRelated[\"name\"])\n",
        "x = pd.concat([bitcoinRelated, dummies], axis = 1)\n",
        "del x['name']\n",
        "del x['close']\n",
        "del x['close_ratio']\n",
        "\n",
        "#DATAFRAME WITH THE DEPENDENT VARIABLE\n",
        "y = bitcoinRelated[['close']]\n",
        "\n",
        "\n"
      ],
      "execution_count": null,
      "outputs": []
    },
    {
      "cell_type": "markdown",
      "metadata": {
        "id": "0BVTV_ZVn4ni"
      },
      "source": [
        "\n",
        "#### Question 7: How many rows and columns does the test set contain? (only independent variables)\n",
        ">You will have to split the data set into training and testing set with respective relative proportion of **70% and 30%** to first train your model and then assess its accuracy.\n",
        ">\n",
        "> You should shuffle your data set when splitting to render your reproduction more robust. Use **`random_state = 42`**\n",
        ">\n",
        "> Since features will not be on the same scale, you should standardize your data before modeling using a **StandardScaler**\n",
        ">\n",
        ">_Hint_: use the class sklearn.preprocessing\n",
        " \n",
        "\n"
      ]
    },
    {
      "cell_type": "code",
      "metadata": {
        "id": "v13QHjkM_UaI",
        "colab": {
          "base_uri": "https://localhost:8080/"
        },
        "outputId": "5ade8c55-cbcc-4765-f17a-cdc644e7ab55"
      },
      "source": [
        "#TODO: CODE TO SPLIT DATA SET IN TRAIN AND TEST, RANDOM SHUFFLING\n",
        "#HINT: look up the function model_selection.train_test_split, preprocessing.StandardScaler\n",
        "from sklearn.model_selection import train_test_split\n",
        "from sklearn.preprocessing import StandardScaler\n",
        "\n",
        "x_train, x_test, y_train, y_test = train_test_split(x,y, test_size=0.3, random_state=42, shuffle=True)\n",
        "\n",
        "scaler = StandardScaler()\n",
        "scaler.fit(x_train)\n",
        "\n",
        "x_train = scaler.transform(x_train)\n",
        "x_test = scaler.transform(x_test)\n",
        "\n",
        "#x_train = scaler.fit_transform(x_train)    \n",
        "#x_test = scaler.transform(x_test)\n",
        "\n",
        "x_test.shape\n",
        "\n",
        "\n"
      ],
      "execution_count": null,
      "outputs": [
        {
          "output_type": "execute_result",
          "data": {
            "text/plain": [
              "(3753, 33)"
            ]
          },
          "metadata": {
            "tags": []
          },
          "execution_count": 30
        }
      ]
    },
    {
      "cell_type": "markdown",
      "metadata": {
        "id": "xLCPCZLboFB-"
      },
      "source": [
        " \n",
        "#### Question 8: What is the mean squared error of your linear model on the standardized test set? (round to 2 decimals)\n",
        "\n",
        "  >  You should also pay attention to the types of your variables some are categorical and others are not even numbers. \n",
        "  >\n",
        "  > _Hint_: there are categorical features among these attributes. You need to encode them with one-hot encoding first. Use the get_dummies function.\n",
        "\n",
        "#### Question 9: What is the mean absolute error of your linear model on the standardized test set? (round to 2 decimals)\n",
        "  > _Hint_: use the classes sklearn.train_test_split, sklearn.linear_model.LinearRegression._, and sklearn.metrics"
      ]
    },
    {
      "cell_type": "code",
      "metadata": {
        "id": "e2PfynqzE536",
        "colab": {
          "base_uri": "https://localhost:8080/"
        },
        "outputId": "c6e43f7e-8165-4787-8c13-824f27295c62"
      },
      "source": [
        "#TODO: CODE TO COMPUTE LINEAR MODEL AND ACCURACY METRICS\n",
        "#HINT: Look up linear_model,metrics.mean_squared_error,metrics.mean_absolute_error\n",
        "from sklearn.linear_model import LinearRegression\n",
        "from sklearn.metrics import mean_absolute_error, r2_score, mean_squared_error\n",
        "\n",
        "#Create linear regression object\n",
        "modele = LinearRegression(fit_intercept= True)\n",
        "\n",
        "#Train the model using the training sets\n",
        "modele.fit(x_train,y_train)\n",
        "\n",
        "#Make predictions using the testing set\n",
        "predictions = modele.predict(x_test)\n",
        "\n",
        "\n",
        "#The mean squared error and the mean absolut error\n",
        "mse = mean_squared_error(y_test, predictions)\n",
        "mae = mean_absolute_error(y_test, predictions)\n",
        "print(\"MSE = \", round(mse,2), \" and MAE = \", round(mae,2))\n",
        "\n",
        "\n",
        "#The coefficient of determination: 1 is perfect prediction\n",
        "r2 = round(modele.score(x_train, y_train), 4)\n",
        "print(\"R^2 =\", r2)\n",
        "\n",
        "#The coefficients\n",
        "intercept = modele.intercept_[0]\n",
        "print(\"intercept :\", intercept)\n",
        "features = modele.coef_.flatten()\n",
        "print(\"coefficients: \", features)\n",
        "\n"
      ],
      "execution_count": null,
      "outputs": [
        {
          "output_type": "stream",
          "text": [
            "MSE =  643.31  and MAE =  8.57\n",
            "R^2 = 0.9997\n",
            "intercept : 418.73205820970793\n",
            "coefficients:  [-2.24062377e+00 -4.92740575e+02  2.33461489e+03 -7.90560146e+02\n",
            " -1.67594859e+01  6.82792956e+02 -1.13578992e+02  6.83634267e+12\n",
            "  4.67431510e+12  1.45948728e+12  2.92297846e+12  3.59391457e+12\n",
            "  3.10627201e+12  5.85765518e+12  1.79002091e+12  2.94815463e+12\n",
            "  3.24457322e+12  2.54890875e+12  1.62161872e+12  2.37339163e+12\n",
            "  3.82482623e+12  6.17457246e+12  2.62127765e+12  3.26139326e+12\n",
            "  8.13185668e+11  6.11299510e+12  1.80066807e+12  1.59777728e+12\n",
            "  8.81872289e+11  9.65821502e+11  3.14149470e+12  3.32223513e+12\n",
            "  1.13194231e+12]\n"
          ],
          "name": "stdout"
        }
      ]
    },
    {
      "cell_type": "markdown",
      "metadata": {
        "id": "pBqXXhU9YVJs"
      },
      "source": [
        "### Part 3 - kNN Classifier \n",
        "Now, for the remaining part of the assignment, you are going to be building a kNN classifier on a bank records of credit card users. The name of each column of data is self-explanatory regarding the content of that field. The purpose of this part is to identify customer segments and be able to predict the average income group of a given user. \n",
        "\n",
        "\n",
        "**Task:** Build a kNN classifier for the **Income_Category** based on all features **except**:\n",
        "\n",
        "`['CustomerID','Card_Category','Education_Level','Marital_Status']`\n",
        "\n",
        "and test various values of k between 1 and 20 to find the most suiting one. \n",
        "  \n",
        "In a first step, as always, load the dataset and display the first few rows.\n",
        "\n"
      ]
    },
    {
      "cell_type": "code",
      "metadata": {
        "id": "0mofpYtGG69E",
        "colab": {
          "base_uri": "https://localhost:8080/",
          "height": 439
        },
        "outputId": "bad568b1-1187-4907-ae47-7a5dccab8e4b"
      },
      "source": [
        "#TODO: RUN THE CELL TO FETCH DATA AND START WORKING \n",
        "url = 'https://storage.googleapis.com/unil_bia/BankChurners.csv'\n",
        "df = pd.read_csv(url).drop('CustomerID.1', axis = 'columns')\n",
        "df"
      ],
      "execution_count": null,
      "outputs": [
        {
          "output_type": "execute_result",
          "data": {
            "text/html": [
              "<div>\n",
              "<style scoped>\n",
              "    .dataframe tbody tr th:only-of-type {\n",
              "        vertical-align: middle;\n",
              "    }\n",
              "\n",
              "    .dataframe tbody tr th {\n",
              "        vertical-align: top;\n",
              "    }\n",
              "\n",
              "    .dataframe thead th {\n",
              "        text-align: right;\n",
              "    }\n",
              "</style>\n",
              "<table border=\"1\" class=\"dataframe\">\n",
              "  <thead>\n",
              "    <tr style=\"text-align: right;\">\n",
              "      <th></th>\n",
              "      <th>CustomerID</th>\n",
              "      <th>Customer_Age</th>\n",
              "      <th>Gender</th>\n",
              "      <th>Dependent_count</th>\n",
              "      <th>Education_Level</th>\n",
              "      <th>Marital_Status</th>\n",
              "      <th>Income_Category</th>\n",
              "      <th>Months_on_book</th>\n",
              "      <th>Total_Relationship_Count</th>\n",
              "      <th>Months_Inactive_12_mon</th>\n",
              "      <th>Contacts_Count_12_mon</th>\n",
              "      <th>Credit_Limit</th>\n",
              "      <th>Total_Revolving_Bal</th>\n",
              "      <th>Avg_Open_To_Buy</th>\n",
              "      <th>Total_Amt_Chng_Q4_Q1</th>\n",
              "      <th>Total_Trans_Amt</th>\n",
              "      <th>Total_Trans_Ct</th>\n",
              "      <th>Total_Ct_Chng_Q4_Q1</th>\n",
              "      <th>Avg_Utilization_Ratio</th>\n",
              "    </tr>\n",
              "  </thead>\n",
              "  <tbody>\n",
              "    <tr>\n",
              "      <th>0</th>\n",
              "      <td>77893100</td>\n",
              "      <td>49</td>\n",
              "      <td>M</td>\n",
              "      <td>2</td>\n",
              "      <td>High School</td>\n",
              "      <td>Single</td>\n",
              "      <td>$120K +</td>\n",
              "      <td>42</td>\n",
              "      <td>3</td>\n",
              "      <td>2</td>\n",
              "      <td>4</td>\n",
              "      <td>21143.988680</td>\n",
              "      <td>1190</td>\n",
              "      <td>19954.007404</td>\n",
              "      <td>0.495259</td>\n",
              "      <td>4895</td>\n",
              "      <td>66</td>\n",
              "      <td>0.778160</td>\n",
              "      <td>0.064341</td>\n",
              "    </tr>\n",
              "    <tr>\n",
              "      <th>1</th>\n",
              "      <td>77906340</td>\n",
              "      <td>42</td>\n",
              "      <td>F</td>\n",
              "      <td>4</td>\n",
              "      <td>Graduate</td>\n",
              "      <td>Single</td>\n",
              "      <td>Less than $40K</td>\n",
              "      <td>34</td>\n",
              "      <td>3</td>\n",
              "      <td>2</td>\n",
              "      <td>3</td>\n",
              "      <td>1853.010829</td>\n",
              "      <td>0</td>\n",
              "      <td>1852.985549</td>\n",
              "      <td>0.853042</td>\n",
              "      <td>4544</td>\n",
              "      <td>72</td>\n",
              "      <td>0.538390</td>\n",
              "      <td>-0.000950</td>\n",
              "    </tr>\n",
              "    <tr>\n",
              "      <th>2</th>\n",
              "      <td>77896672</td>\n",
              "      <td>53</td>\n",
              "      <td>F</td>\n",
              "      <td>5</td>\n",
              "      <td>Graduate</td>\n",
              "      <td>Single</td>\n",
              "      <td>$40K - $60K</td>\n",
              "      <td>41</td>\n",
              "      <td>2</td>\n",
              "      <td>1</td>\n",
              "      <td>3</td>\n",
              "      <td>9815.011727</td>\n",
              "      <td>1699</td>\n",
              "      <td>8116.013344</td>\n",
              "      <td>0.630096</td>\n",
              "      <td>7962</td>\n",
              "      <td>89</td>\n",
              "      <td>0.571813</td>\n",
              "      <td>0.182933</td>\n",
              "    </tr>\n",
              "    <tr>\n",
              "      <th>3</th>\n",
              "      <td>77907011</td>\n",
              "      <td>63</td>\n",
              "      <td>F</td>\n",
              "      <td>0</td>\n",
              "      <td>High School</td>\n",
              "      <td>Married</td>\n",
              "      <td>Less than $40K</td>\n",
              "      <td>53</td>\n",
              "      <td>5</td>\n",
              "      <td>3</td>\n",
              "      <td>2</td>\n",
              "      <td>2270.990406</td>\n",
              "      <td>1278</td>\n",
              "      <td>992.989510</td>\n",
              "      <td>0.372988</td>\n",
              "      <td>1550</td>\n",
              "      <td>33</td>\n",
              "      <td>0.666323</td>\n",
              "      <td>0.534439</td>\n",
              "    </tr>\n",
              "    <tr>\n",
              "      <th>4</th>\n",
              "      <td>77899573</td>\n",
              "      <td>51</td>\n",
              "      <td>M</td>\n",
              "      <td>1</td>\n",
              "      <td>Unknown</td>\n",
              "      <td>Single</td>\n",
              "      <td>$60K - $80K</td>\n",
              "      <td>22</td>\n",
              "      <td>2</td>\n",
              "      <td>3</td>\n",
              "      <td>3</td>\n",
              "      <td>4248.012193</td>\n",
              "      <td>1177</td>\n",
              "      <td>3071.015918</td>\n",
              "      <td>0.828221</td>\n",
              "      <td>13958</td>\n",
              "      <td>116</td>\n",
              "      <td>0.784340</td>\n",
              "      <td>0.294722</td>\n",
              "    </tr>\n",
              "    <tr>\n",
              "      <th>...</th>\n",
              "      <td>...</td>\n",
              "      <td>...</td>\n",
              "      <td>...</td>\n",
              "      <td>...</td>\n",
              "      <td>...</td>\n",
              "      <td>...</td>\n",
              "      <td>...</td>\n",
              "      <td>...</td>\n",
              "      <td>...</td>\n",
              "      <td>...</td>\n",
              "      <td>...</td>\n",
              "      <td>...</td>\n",
              "      <td>...</td>\n",
              "      <td>...</td>\n",
              "      <td>...</td>\n",
              "      <td>...</td>\n",
              "      <td>...</td>\n",
              "      <td>...</td>\n",
              "      <td>...</td>\n",
              "    </tr>\n",
              "    <tr>\n",
              "      <th>21361</th>\n",
              "      <td>77904816</td>\n",
              "      <td>56</td>\n",
              "      <td>F</td>\n",
              "      <td>5</td>\n",
              "      <td>Graduate</td>\n",
              "      <td>Married</td>\n",
              "      <td>Less than $40K</td>\n",
              "      <td>36</td>\n",
              "      <td>5</td>\n",
              "      <td>4</td>\n",
              "      <td>4</td>\n",
              "      <td>3088.009043</td>\n",
              "      <td>2517</td>\n",
              "      <td>570.995399</td>\n",
              "      <td>0.848707</td>\n",
              "      <td>2292</td>\n",
              "      <td>54</td>\n",
              "      <td>0.871254</td>\n",
              "      <td>0.816218</td>\n",
              "    </tr>\n",
              "    <tr>\n",
              "      <th>21362</th>\n",
              "      <td>77893743</td>\n",
              "      <td>50</td>\n",
              "      <td>M</td>\n",
              "      <td>1</td>\n",
              "      <td>Graduate</td>\n",
              "      <td>Married</td>\n",
              "      <td>$120K +</td>\n",
              "      <td>43</td>\n",
              "      <td>4</td>\n",
              "      <td>5</td>\n",
              "      <td>3</td>\n",
              "      <td>20957.978426</td>\n",
              "      <td>0</td>\n",
              "      <td>20957.987326</td>\n",
              "      <td>0.783164</td>\n",
              "      <td>4425</td>\n",
              "      <td>78</td>\n",
              "      <td>0.690071</td>\n",
              "      <td>0.006411</td>\n",
              "    </tr>\n",
              "    <tr>\n",
              "      <th>21363</th>\n",
              "      <td>77896451</td>\n",
              "      <td>46</td>\n",
              "      <td>M</td>\n",
              "      <td>4</td>\n",
              "      <td>Uneducated</td>\n",
              "      <td>Married</td>\n",
              "      <td>$40K - $60K</td>\n",
              "      <td>35</td>\n",
              "      <td>3</td>\n",
              "      <td>2</td>\n",
              "      <td>2</td>\n",
              "      <td>9148.996371</td>\n",
              "      <td>1566</td>\n",
              "      <td>7582.992357</td>\n",
              "      <td>0.969201</td>\n",
              "      <td>1790</td>\n",
              "      <td>60</td>\n",
              "      <td>0.775323</td>\n",
              "      <td>0.184179</td>\n",
              "    </tr>\n",
              "    <tr>\n",
              "      <th>21364</th>\n",
              "      <td>77892298</td>\n",
              "      <td>53</td>\n",
              "      <td>M</td>\n",
              "      <td>4</td>\n",
              "      <td>Unknown</td>\n",
              "      <td>Single</td>\n",
              "      <td>$120K +</td>\n",
              "      <td>48</td>\n",
              "      <td>3</td>\n",
              "      <td>3</td>\n",
              "      <td>4</td>\n",
              "      <td>34516.021370</td>\n",
              "      <td>278</td>\n",
              "      <td>34238.013348</td>\n",
              "      <td>0.816651</td>\n",
              "      <td>3029</td>\n",
              "      <td>49</td>\n",
              "      <td>0.408986</td>\n",
              "      <td>0.012188</td>\n",
              "    </tr>\n",
              "    <tr>\n",
              "      <th>21365</th>\n",
              "      <td>77890514</td>\n",
              "      <td>43</td>\n",
              "      <td>M</td>\n",
              "      <td>4</td>\n",
              "      <td>Unknown</td>\n",
              "      <td>Married</td>\n",
              "      <td>$120K +</td>\n",
              "      <td>39</td>\n",
              "      <td>3</td>\n",
              "      <td>3</td>\n",
              "      <td>3</td>\n",
              "      <td>14881.014907</td>\n",
              "      <td>848</td>\n",
              "      <td>14033.017511</td>\n",
              "      <td>0.763972</td>\n",
              "      <td>1408</td>\n",
              "      <td>23</td>\n",
              "      <td>1.102845</td>\n",
              "      <td>0.049550</td>\n",
              "    </tr>\n",
              "  </tbody>\n",
              "</table>\n",
              "<p>21366 rows × 19 columns</p>\n",
              "</div>"
            ],
            "text/plain": [
              "       CustomerID  Customer_Age  ... Total_Ct_Chng_Q4_Q1  Avg_Utilization_Ratio\n",
              "0        77893100            49  ...            0.778160               0.064341\n",
              "1        77906340            42  ...            0.538390              -0.000950\n",
              "2        77896672            53  ...            0.571813               0.182933\n",
              "3        77907011            63  ...            0.666323               0.534439\n",
              "4        77899573            51  ...            0.784340               0.294722\n",
              "...           ...           ...  ...                 ...                    ...\n",
              "21361    77904816            56  ...            0.871254               0.816218\n",
              "21362    77893743            50  ...            0.690071               0.006411\n",
              "21363    77896451            46  ...            0.775323               0.184179\n",
              "21364    77892298            53  ...            0.408986               0.012188\n",
              "21365    77890514            43  ...            1.102845               0.049550\n",
              "\n",
              "[21366 rows x 19 columns]"
            ]
          },
          "metadata": {
            "tags": []
          },
          "execution_count": 32
        }
      ]
    },
    {
      "cell_type": "code",
      "metadata": {
        "id": "-y8HL5PN1PUQ",
        "colab": {
          "base_uri": "https://localhost:8080/",
          "height": 204
        },
        "outputId": "b5b0a136-74d8-4bb6-bbdf-3daab4066739"
      },
      "source": [
        "#TODO: CODE TO DO THE LABEL ENCODING HERE\n",
        "#Note that the label encoding will turn ['$120K +', 'Less than $40K', '$40K - $60K', '$60K - $80K','Unknown', '$80K - $120K'] into [0, 4, 1, 2, 5, 3] in that order\n",
        "#This means that '$120K +' becomes 0, 'Less than $40K' becomes 4, etc.\n",
        "#HINT: look up preprocessing.LabelEncoder()\n",
        "import numpy as np\n",
        "from sklearn.preprocessing import LabelEncoder\n",
        "df['Income_Category'] = LabelEncoder().fit_transform(df['Income_Category'])\n",
        "y = df[['Income_Category']]\n",
        "y.head()\n",
        "\n",
        "\n",
        "\n",
        "\n"
      ],
      "execution_count": null,
      "outputs": [
        {
          "output_type": "execute_result",
          "data": {
            "text/html": [
              "<div>\n",
              "<style scoped>\n",
              "    .dataframe tbody tr th:only-of-type {\n",
              "        vertical-align: middle;\n",
              "    }\n",
              "\n",
              "    .dataframe tbody tr th {\n",
              "        vertical-align: top;\n",
              "    }\n",
              "\n",
              "    .dataframe thead th {\n",
              "        text-align: right;\n",
              "    }\n",
              "</style>\n",
              "<table border=\"1\" class=\"dataframe\">\n",
              "  <thead>\n",
              "    <tr style=\"text-align: right;\">\n",
              "      <th></th>\n",
              "      <th>Income_Category</th>\n",
              "    </tr>\n",
              "  </thead>\n",
              "  <tbody>\n",
              "    <tr>\n",
              "      <th>0</th>\n",
              "      <td>0</td>\n",
              "    </tr>\n",
              "    <tr>\n",
              "      <th>1</th>\n",
              "      <td>4</td>\n",
              "    </tr>\n",
              "    <tr>\n",
              "      <th>2</th>\n",
              "      <td>1</td>\n",
              "    </tr>\n",
              "    <tr>\n",
              "      <th>3</th>\n",
              "      <td>4</td>\n",
              "    </tr>\n",
              "    <tr>\n",
              "      <th>4</th>\n",
              "      <td>2</td>\n",
              "    </tr>\n",
              "  </tbody>\n",
              "</table>\n",
              "</div>"
            ],
            "text/plain": [
              "   Income_Category\n",
              "0                0\n",
              "1                4\n",
              "2                1\n",
              "3                4\n",
              "4                2"
            ]
          },
          "metadata": {
            "tags": []
          },
          "execution_count": 33
        }
      ]
    },
    {
      "cell_type": "markdown",
      "metadata": {
        "id": "eABulYwm64IZ"
      },
      "source": [
        "You will now build the model."
      ]
    },
    {
      "cell_type": "code",
      "metadata": {
        "id": "5PgXhxAG4sHg",
        "colab": {
          "base_uri": "https://localhost:8080/",
          "height": 224
        },
        "outputId": "9b32493c-0a12-4fb7-f1de-62bb2d18a678"
      },
      "source": [
        "#TODO: CODE TO COMPUTE THE FEATURES OF INTEREST IN THE DATA SET \n",
        "#HINT: use DataFrame indexing, look up the function .get_dummies\n",
        "dummies = pd.get_dummies(df[\"Gender\"])\n",
        "x = pd.concat([df, dummies], axis = 1)\n",
        "del x['CustomerID']\n",
        "del x['Education_Level']\n",
        "del x['Marital_Status']\n",
        "del x['Income_Category']\n",
        "del x['Gender']\n",
        "x.head()\n"
      ],
      "execution_count": null,
      "outputs": [
        {
          "output_type": "execute_result",
          "data": {
            "text/html": [
              "<div>\n",
              "<style scoped>\n",
              "    .dataframe tbody tr th:only-of-type {\n",
              "        vertical-align: middle;\n",
              "    }\n",
              "\n",
              "    .dataframe tbody tr th {\n",
              "        vertical-align: top;\n",
              "    }\n",
              "\n",
              "    .dataframe thead th {\n",
              "        text-align: right;\n",
              "    }\n",
              "</style>\n",
              "<table border=\"1\" class=\"dataframe\">\n",
              "  <thead>\n",
              "    <tr style=\"text-align: right;\">\n",
              "      <th></th>\n",
              "      <th>Customer_Age</th>\n",
              "      <th>Dependent_count</th>\n",
              "      <th>Months_on_book</th>\n",
              "      <th>Total_Relationship_Count</th>\n",
              "      <th>Months_Inactive_12_mon</th>\n",
              "      <th>Contacts_Count_12_mon</th>\n",
              "      <th>Credit_Limit</th>\n",
              "      <th>Total_Revolving_Bal</th>\n",
              "      <th>Avg_Open_To_Buy</th>\n",
              "      <th>Total_Amt_Chng_Q4_Q1</th>\n",
              "      <th>Total_Trans_Amt</th>\n",
              "      <th>Total_Trans_Ct</th>\n",
              "      <th>Total_Ct_Chng_Q4_Q1</th>\n",
              "      <th>Avg_Utilization_Ratio</th>\n",
              "      <th>F</th>\n",
              "      <th>M</th>\n",
              "    </tr>\n",
              "  </thead>\n",
              "  <tbody>\n",
              "    <tr>\n",
              "      <th>0</th>\n",
              "      <td>49</td>\n",
              "      <td>2</td>\n",
              "      <td>42</td>\n",
              "      <td>3</td>\n",
              "      <td>2</td>\n",
              "      <td>4</td>\n",
              "      <td>21143.988680</td>\n",
              "      <td>1190</td>\n",
              "      <td>19954.007404</td>\n",
              "      <td>0.495259</td>\n",
              "      <td>4895</td>\n",
              "      <td>66</td>\n",
              "      <td>0.778160</td>\n",
              "      <td>0.064341</td>\n",
              "      <td>0</td>\n",
              "      <td>1</td>\n",
              "    </tr>\n",
              "    <tr>\n",
              "      <th>1</th>\n",
              "      <td>42</td>\n",
              "      <td>4</td>\n",
              "      <td>34</td>\n",
              "      <td>3</td>\n",
              "      <td>2</td>\n",
              "      <td>3</td>\n",
              "      <td>1853.010829</td>\n",
              "      <td>0</td>\n",
              "      <td>1852.985549</td>\n",
              "      <td>0.853042</td>\n",
              "      <td>4544</td>\n",
              "      <td>72</td>\n",
              "      <td>0.538390</td>\n",
              "      <td>-0.000950</td>\n",
              "      <td>1</td>\n",
              "      <td>0</td>\n",
              "    </tr>\n",
              "    <tr>\n",
              "      <th>2</th>\n",
              "      <td>53</td>\n",
              "      <td>5</td>\n",
              "      <td>41</td>\n",
              "      <td>2</td>\n",
              "      <td>1</td>\n",
              "      <td>3</td>\n",
              "      <td>9815.011727</td>\n",
              "      <td>1699</td>\n",
              "      <td>8116.013344</td>\n",
              "      <td>0.630096</td>\n",
              "      <td>7962</td>\n",
              "      <td>89</td>\n",
              "      <td>0.571813</td>\n",
              "      <td>0.182933</td>\n",
              "      <td>1</td>\n",
              "      <td>0</td>\n",
              "    </tr>\n",
              "    <tr>\n",
              "      <th>3</th>\n",
              "      <td>63</td>\n",
              "      <td>0</td>\n",
              "      <td>53</td>\n",
              "      <td>5</td>\n",
              "      <td>3</td>\n",
              "      <td>2</td>\n",
              "      <td>2270.990406</td>\n",
              "      <td>1278</td>\n",
              "      <td>992.989510</td>\n",
              "      <td>0.372988</td>\n",
              "      <td>1550</td>\n",
              "      <td>33</td>\n",
              "      <td>0.666323</td>\n",
              "      <td>0.534439</td>\n",
              "      <td>1</td>\n",
              "      <td>0</td>\n",
              "    </tr>\n",
              "    <tr>\n",
              "      <th>4</th>\n",
              "      <td>51</td>\n",
              "      <td>1</td>\n",
              "      <td>22</td>\n",
              "      <td>2</td>\n",
              "      <td>3</td>\n",
              "      <td>3</td>\n",
              "      <td>4248.012193</td>\n",
              "      <td>1177</td>\n",
              "      <td>3071.015918</td>\n",
              "      <td>0.828221</td>\n",
              "      <td>13958</td>\n",
              "      <td>116</td>\n",
              "      <td>0.784340</td>\n",
              "      <td>0.294722</td>\n",
              "      <td>0</td>\n",
              "      <td>1</td>\n",
              "    </tr>\n",
              "  </tbody>\n",
              "</table>\n",
              "</div>"
            ],
            "text/plain": [
              "   Customer_Age  Dependent_count  Months_on_book  ...  Avg_Utilization_Ratio  F  M\n",
              "0            49                2              42  ...               0.064341  0  1\n",
              "1            42                4              34  ...              -0.000950  1  0\n",
              "2            53                5              41  ...               0.182933  1  0\n",
              "3            63                0              53  ...               0.534439  1  0\n",
              "4            51                1              22  ...               0.294722  0  1\n",
              "\n",
              "[5 rows x 16 columns]"
            ]
          },
          "metadata": {
            "tags": []
          },
          "execution_count": 34
        }
      ]
    },
    {
      "cell_type": "markdown",
      "metadata": {
        "id": "k8t9MjC8oTLp"
      },
      "source": [
        "#### Question 10: How many rows and columns does the test set contain? (only independent variables)\n",
        "> You will have to split the data set into a training and testing set with respective  relative proportion of **70% and 30%** to first train your model and then assess its accuracy.\n",
        ">\n",
        "> You should shuffle your data set when splitting to render your reproduction more robust. Use **`random_state = 42`**\n",
        "\n",
        "\n"
      ]
    },
    {
      "cell_type": "code",
      "metadata": {
        "id": "U8KAeLw65NOX",
        "colab": {
          "base_uri": "https://localhost:8080/"
        },
        "outputId": "2e2d72e9-74ea-4466-b8b6-8ca7837f74a8"
      },
      "source": [
        "#TODO: CODE TO SPLIT DATA SET IN TRAIN AND TEST, RANDOM SHUFFLING\n",
        "#HINT: look up the functions model_selection.train_test_split and preprocessing.MinMaxScaler\n",
        "from sklearn.model_selection import train_test_split\n",
        "from sklearn.preprocessing import MinMaxScaler\n",
        "\n",
        "x_train, x_test, y_train, y_test = train_test_split(x,y, test_size=0.3, random_state=42, shuffle=True)\n",
        "\n",
        "scaler = MinMaxScaler()\n",
        "scaler.fit(x_train)\n",
        "\n",
        "x_train = scaler.transform(x_train)\n",
        "x_test = scaler.transform(x_test)\n",
        "\n",
        "\n",
        "\n",
        "x_test.shape\n",
        "\n",
        "\n"
      ],
      "execution_count": null,
      "outputs": [
        {
          "output_type": "execute_result",
          "data": {
            "text/plain": [
              "(6410, 16)"
            ]
          },
          "metadata": {
            "tags": []
          },
          "execution_count": 35
        }
      ]
    },
    {
      "cell_type": "markdown",
      "metadata": {
        "id": "-OuEusiioWta"
      },
      "source": [
        "\n",
        "#### Question 11: What k maximizes the accuracy_score on the minmax scaled test set? Test for k between 1 and 20.\n",
        "  > You should also pay attention to the types of your variables some are categorical and others are not even figures. \n",
        "  >\n",
        "  >_Hint_: there are categorical features among these attributes. You need to encode them with one-hot encoding first. Use the get_dummies function.\n",
        "  >\n",
        "  > You will have to encode you target feature to use it to build you classifier\n",
        ">\n",
        "  > As the scale in the features is different, you should standardize your data with a **MinMax** scaler to before using it. In fact when calculating the distances, you don't kNN to focus on larger scale dimensions. \n",
        ">\n",
        "  >_Hint_  : use the class sklearn.preprocessing\n",
        "\n",
        "#### Question 12: What is the accuracy for the optimal k on the minmax scaled test set? (round to 2 decimals)\n",
        "  >_Hint_: use the classes sklearn.train_test_split, sklearn.neighbors.KNeighborsClassifier, sklearn.preprocessing.LabelEncoder, and sklearn.metrics\n",
        "\n"
      ]
    },
    {
      "cell_type": "code",
      "metadata": {
        "id": "gF_UwO0T6Kb4",
        "colab": {
          "base_uri": "https://localhost:8080/"
        },
        "outputId": "9a8be24e-5e2c-4c9e-c402-6a73b56f7e7b"
      },
      "source": [
        "#TODO: CODE TO COMPUTE LINEAR MODEL AND ACCURACY METRICS\n",
        "#HINT: Look up KNeighborsClassifier and metrics.accuracy_score\n",
        "from sklearn.neighbors import KNeighborsClassifier\n",
        "\n",
        "model = KNeighborsClassifier(1)\n",
        "model.fit(x_train, y_train)\n",
        "accuracy = model.score(x_test, y_test)\n",
        "print(\"Accuracy on the minmax scaled test for the k (=1) that maximizes it is : \", accuracy)\n"
      ],
      "execution_count": null,
      "outputs": [
        {
          "output_type": "stream",
          "text": [
            "/usr/local/lib/python3.7/dist-packages/ipykernel_launcher.py:6: DataConversionWarning: A column-vector y was passed when a 1d array was expected. Please change the shape of y to (n_samples, ), for example using ravel().\n",
            "  \n"
          ],
          "name": "stderr"
        },
        {
          "output_type": "stream",
          "text": [
            "Accuracy on the minmax scaled test for the k (=1) that maximizes it is :  0.8728549141965679\n"
          ],
          "name": "stdout"
        }
      ]
    },
    {
      "cell_type": "code",
      "metadata": {
        "id": "Kcl45yJFTglv",
        "colab": {
          "base_uri": "https://localhost:8080/"
        },
        "outputId": "5b235d66-b100-4d07-aba4-2c34799e5b2a"
      },
      "source": [
        "#TODO: CODE FOR VISUALIZATION OF K VERSUS ACCURACY\n",
        "for k in range (1,21) :\n",
        "  modele = KNeighborsClassifier(k)\n",
        "  modele.fit(x_train, y_train)\n",
        "  accuracy = modele.score(x_test, y_test)\n",
        "  print(\"Accuracy on the minmax scaled test set for k =\", k, \"is : \", accuracy)\n"
      ],
      "execution_count": null,
      "outputs": [
        {
          "output_type": "stream",
          "text": [
            "/usr/local/lib/python3.7/dist-packages/ipykernel_launcher.py:4: DataConversionWarning: A column-vector y was passed when a 1d array was expected. Please change the shape of y to (n_samples, ), for example using ravel().\n",
            "  after removing the cwd from sys.path.\n"
          ],
          "name": "stderr"
        },
        {
          "output_type": "stream",
          "text": [
            "Accuracy on the minmax scaled test set for k = 1 is :  0.8728549141965679\n"
          ],
          "name": "stdout"
        },
        {
          "output_type": "stream",
          "text": [
            "/usr/local/lib/python3.7/dist-packages/ipykernel_launcher.py:4: DataConversionWarning: A column-vector y was passed when a 1d array was expected. Please change the shape of y to (n_samples, ), for example using ravel().\n",
            "  after removing the cwd from sys.path.\n"
          ],
          "name": "stderr"
        },
        {
          "output_type": "stream",
          "text": [
            "Accuracy on the minmax scaled test set for k = 2 is :  0.773634945397816\n"
          ],
          "name": "stdout"
        },
        {
          "output_type": "stream",
          "text": [
            "/usr/local/lib/python3.7/dist-packages/ipykernel_launcher.py:4: DataConversionWarning: A column-vector y was passed when a 1d array was expected. Please change the shape of y to (n_samples, ), for example using ravel().\n",
            "  after removing the cwd from sys.path.\n"
          ],
          "name": "stderr"
        },
        {
          "output_type": "stream",
          "text": [
            "Accuracy on the minmax scaled test set for k = 3 is :  0.719188767550702\n"
          ],
          "name": "stdout"
        },
        {
          "output_type": "stream",
          "text": [
            "/usr/local/lib/python3.7/dist-packages/ipykernel_launcher.py:4: DataConversionWarning: A column-vector y was passed when a 1d array was expected. Please change the shape of y to (n_samples, ), for example using ravel().\n",
            "  after removing the cwd from sys.path.\n"
          ],
          "name": "stderr"
        },
        {
          "output_type": "stream",
          "text": [
            "Accuracy on the minmax scaled test set for k = 4 is :  0.6569422776911077\n"
          ],
          "name": "stdout"
        },
        {
          "output_type": "stream",
          "text": [
            "/usr/local/lib/python3.7/dist-packages/ipykernel_launcher.py:4: DataConversionWarning: A column-vector y was passed when a 1d array was expected. Please change the shape of y to (n_samples, ), for example using ravel().\n",
            "  after removing the cwd from sys.path.\n"
          ],
          "name": "stderr"
        },
        {
          "output_type": "stream",
          "text": [
            "Accuracy on the minmax scaled test set for k = 5 is :  0.6271450858034321\n"
          ],
          "name": "stdout"
        },
        {
          "output_type": "stream",
          "text": [
            "/usr/local/lib/python3.7/dist-packages/ipykernel_launcher.py:4: DataConversionWarning: A column-vector y was passed when a 1d array was expected. Please change the shape of y to (n_samples, ), for example using ravel().\n",
            "  after removing the cwd from sys.path.\n"
          ],
          "name": "stderr"
        },
        {
          "output_type": "stream",
          "text": [
            "Accuracy on the minmax scaled test set for k = 6 is :  0.5921996879875195\n"
          ],
          "name": "stdout"
        },
        {
          "output_type": "stream",
          "text": [
            "/usr/local/lib/python3.7/dist-packages/ipykernel_launcher.py:4: DataConversionWarning: A column-vector y was passed when a 1d array was expected. Please change the shape of y to (n_samples, ), for example using ravel().\n",
            "  after removing the cwd from sys.path.\n"
          ],
          "name": "stderr"
        },
        {
          "output_type": "stream",
          "text": [
            "Accuracy on the minmax scaled test set for k = 7 is :  0.5741029641185648\n"
          ],
          "name": "stdout"
        },
        {
          "output_type": "stream",
          "text": [
            "/usr/local/lib/python3.7/dist-packages/ipykernel_launcher.py:4: DataConversionWarning: A column-vector y was passed when a 1d array was expected. Please change the shape of y to (n_samples, ), for example using ravel().\n",
            "  after removing the cwd from sys.path.\n"
          ],
          "name": "stderr"
        },
        {
          "output_type": "stream",
          "text": [
            "Accuracy on the minmax scaled test set for k = 8 is :  0.5519500780031201\n"
          ],
          "name": "stdout"
        },
        {
          "output_type": "stream",
          "text": [
            "/usr/local/lib/python3.7/dist-packages/ipykernel_launcher.py:4: DataConversionWarning: A column-vector y was passed when a 1d array was expected. Please change the shape of y to (n_samples, ), for example using ravel().\n",
            "  after removing the cwd from sys.path.\n"
          ],
          "name": "stderr"
        },
        {
          "output_type": "stream",
          "text": [
            "Accuracy on the minmax scaled test set for k = 9 is :  0.5438377535101404\n"
          ],
          "name": "stdout"
        },
        {
          "output_type": "stream",
          "text": [
            "/usr/local/lib/python3.7/dist-packages/ipykernel_launcher.py:4: DataConversionWarning: A column-vector y was passed when a 1d array was expected. Please change the shape of y to (n_samples, ), for example using ravel().\n",
            "  after removing the cwd from sys.path.\n"
          ],
          "name": "stderr"
        },
        {
          "output_type": "stream",
          "text": [
            "Accuracy on the minmax scaled test set for k = 10 is :  0.5290171606864275\n"
          ],
          "name": "stdout"
        },
        {
          "output_type": "stream",
          "text": [
            "/usr/local/lib/python3.7/dist-packages/ipykernel_launcher.py:4: DataConversionWarning: A column-vector y was passed when a 1d array was expected. Please change the shape of y to (n_samples, ), for example using ravel().\n",
            "  after removing the cwd from sys.path.\n"
          ],
          "name": "stderr"
        },
        {
          "output_type": "stream",
          "text": [
            "Accuracy on the minmax scaled test set for k = 11 is :  0.5274570982839314\n"
          ],
          "name": "stdout"
        },
        {
          "output_type": "stream",
          "text": [
            "/usr/local/lib/python3.7/dist-packages/ipykernel_launcher.py:4: DataConversionWarning: A column-vector y was passed when a 1d array was expected. Please change the shape of y to (n_samples, ), for example using ravel().\n",
            "  after removing the cwd from sys.path.\n"
          ],
          "name": "stderr"
        },
        {
          "output_type": "stream",
          "text": [
            "Accuracy on the minmax scaled test set for k = 12 is :  0.5213728549141966\n"
          ],
          "name": "stdout"
        },
        {
          "output_type": "stream",
          "text": [
            "/usr/local/lib/python3.7/dist-packages/ipykernel_launcher.py:4: DataConversionWarning: A column-vector y was passed when a 1d array was expected. Please change the shape of y to (n_samples, ), for example using ravel().\n",
            "  after removing the cwd from sys.path.\n"
          ],
          "name": "stderr"
        },
        {
          "output_type": "stream",
          "text": [
            "Accuracy on the minmax scaled test set for k = 13 is :  0.5170046801872075\n"
          ],
          "name": "stdout"
        },
        {
          "output_type": "stream",
          "text": [
            "/usr/local/lib/python3.7/dist-packages/ipykernel_launcher.py:4: DataConversionWarning: A column-vector y was passed when a 1d array was expected. Please change the shape of y to (n_samples, ), for example using ravel().\n",
            "  after removing the cwd from sys.path.\n"
          ],
          "name": "stderr"
        },
        {
          "output_type": "stream",
          "text": [
            "Accuracy on the minmax scaled test set for k = 14 is :  0.5084243369734789\n"
          ],
          "name": "stdout"
        },
        {
          "output_type": "stream",
          "text": [
            "/usr/local/lib/python3.7/dist-packages/ipykernel_launcher.py:4: DataConversionWarning: A column-vector y was passed when a 1d array was expected. Please change the shape of y to (n_samples, ), for example using ravel().\n",
            "  after removing the cwd from sys.path.\n"
          ],
          "name": "stderr"
        },
        {
          "output_type": "stream",
          "text": [
            "Accuracy on the minmax scaled test set for k = 15 is :  0.5087363494539782\n"
          ],
          "name": "stdout"
        },
        {
          "output_type": "stream",
          "text": [
            "/usr/local/lib/python3.7/dist-packages/ipykernel_launcher.py:4: DataConversionWarning: A column-vector y was passed when a 1d array was expected. Please change the shape of y to (n_samples, ), for example using ravel().\n",
            "  after removing the cwd from sys.path.\n"
          ],
          "name": "stderr"
        },
        {
          "output_type": "stream",
          "text": [
            "Accuracy on the minmax scaled test set for k = 16 is :  0.5065522620904837\n"
          ],
          "name": "stdout"
        },
        {
          "output_type": "stream",
          "text": [
            "/usr/local/lib/python3.7/dist-packages/ipykernel_launcher.py:4: DataConversionWarning: A column-vector y was passed when a 1d array was expected. Please change the shape of y to (n_samples, ), for example using ravel().\n",
            "  after removing the cwd from sys.path.\n"
          ],
          "name": "stderr"
        },
        {
          "output_type": "stream",
          "text": [
            "Accuracy on the minmax scaled test set for k = 17 is :  0.4995319812792512\n"
          ],
          "name": "stdout"
        },
        {
          "output_type": "stream",
          "text": [
            "/usr/local/lib/python3.7/dist-packages/ipykernel_launcher.py:4: DataConversionWarning: A column-vector y was passed when a 1d array was expected. Please change the shape of y to (n_samples, ), for example using ravel().\n",
            "  after removing the cwd from sys.path.\n"
          ],
          "name": "stderr"
        },
        {
          "output_type": "stream",
          "text": [
            "Accuracy on the minmax scaled test set for k = 18 is :  0.49375975039001563\n"
          ],
          "name": "stdout"
        },
        {
          "output_type": "stream",
          "text": [
            "/usr/local/lib/python3.7/dist-packages/ipykernel_launcher.py:4: DataConversionWarning: A column-vector y was passed when a 1d array was expected. Please change the shape of y to (n_samples, ), for example using ravel().\n",
            "  after removing the cwd from sys.path.\n"
          ],
          "name": "stderr"
        },
        {
          "output_type": "stream",
          "text": [
            "Accuracy on the minmax scaled test set for k = 19 is :  0.48954758190327613\n"
          ],
          "name": "stdout"
        },
        {
          "output_type": "stream",
          "text": [
            "/usr/local/lib/python3.7/dist-packages/ipykernel_launcher.py:4: DataConversionWarning: A column-vector y was passed when a 1d array was expected. Please change the shape of y to (n_samples, ), for example using ravel().\n",
            "  after removing the cwd from sys.path.\n"
          ],
          "name": "stderr"
        },
        {
          "output_type": "stream",
          "text": [
            "Accuracy on the minmax scaled test set for k = 20 is :  0.48985959438377535\n"
          ],
          "name": "stdout"
        }
      ]
    },
    {
      "cell_type": "markdown",
      "metadata": {
        "id": "1ai9iJBwKPXU"
      },
      "source": [
        "#### Question 13: How many samples from your MinMax scaled test set were correctly classified in the ´\\$40K - $60K´ income category? \n",
        "  >_Hint_: use the class sklearn.neighbors.KNeighborsClassifier.predict and sklearn.metric.confusion_matrix\n",
        "  >\n",
        "  >_Hint_: pay close attention to the class ordering of the confusion matrix so you look at the right category"
      ]
    },
    {
      "cell_type": "code",
      "metadata": {
        "id": "o34q5hm9_N1H",
        "colab": {
          "base_uri": "https://localhost:8080/"
        },
        "outputId": "dbc19f15-4ec2-4fb3-dd0b-12264c7fadec"
      },
      "source": [
        "#TODO: CODE THE CONFUSION METRIC FOR YOUR OPTIMAL CLASSIFIER \n",
        "#HINT: look up the library sklearn.metrics and the function confusion_matrix\n",
        "from sklearn.metrics import confusion_matrix\n",
        "\n",
        "confusion_matrix(y_test, model.predict(x_test))\n"
      ],
      "execution_count": null,
      "outputs": [
        {
          "output_type": "execute_result",
          "data": {
            "text/plain": [
              "array([[1008,    3,    8,   15,    0,    0],\n",
              "       [  15,  867,   29,   24,   86,   41],\n",
              "       [  28,   39,  963,   51,   11,    3],\n",
              "       [  38,   27,   68,  955,    2,    3],\n",
              "       [   3,  135,   14,    7,  827,   96],\n",
              "       [   0,   30,    0,    2,   37,  975]])"
            ]
          },
          "metadata": {
            "tags": []
          },
          "execution_count": 38
        }
      ]
    },
    {
      "cell_type": "markdown",
      "metadata": {
        "id": "wWAqe618ofo2"
      },
      "source": [
        "#### Question 14: Which income categories are predicted for the users with ids 77892545 and 77910120 with your optimal classifier? (k with the best accuracy)\n",
        "  >_Hint_: use the class sklearn.neighbors.KNeighborsClassifier.predict\n"
      ]
    },
    {
      "cell_type": "code",
      "metadata": {
        "id": "hGr6-Y88-nso",
        "colab": {
          "base_uri": "https://localhost:8080/",
          "height": 100
        },
        "outputId": "c0a8f5c6-dfcf-421e-a242-e57368b65323"
      },
      "source": [
        "#TODO: CODE TO SELECT IDS 77892545 AND 77910120\n",
        "#HINT: look up the function isin \n",
        "scaler.fit(x)\n",
        "x = scaler.transform(x)\n",
        "pred = model.predict(x)\n",
        "df.loc[:, 'Prediction'] = pred\n",
        "df.head()\n",
        "\n",
        "df[df['CustomerID'] == 77892545]\n",
        "\n"
      ],
      "execution_count": null,
      "outputs": [
        {
          "output_type": "execute_result",
          "data": {
            "text/html": [
              "<div>\n",
              "<style scoped>\n",
              "    .dataframe tbody tr th:only-of-type {\n",
              "        vertical-align: middle;\n",
              "    }\n",
              "\n",
              "    .dataframe tbody tr th {\n",
              "        vertical-align: top;\n",
              "    }\n",
              "\n",
              "    .dataframe thead th {\n",
              "        text-align: right;\n",
              "    }\n",
              "</style>\n",
              "<table border=\"1\" class=\"dataframe\">\n",
              "  <thead>\n",
              "    <tr style=\"text-align: right;\">\n",
              "      <th></th>\n",
              "      <th>CustomerID</th>\n",
              "      <th>Customer_Age</th>\n",
              "      <th>Gender</th>\n",
              "      <th>Dependent_count</th>\n",
              "      <th>Education_Level</th>\n",
              "      <th>Marital_Status</th>\n",
              "      <th>Income_Category</th>\n",
              "      <th>Months_on_book</th>\n",
              "      <th>Total_Relationship_Count</th>\n",
              "      <th>Months_Inactive_12_mon</th>\n",
              "      <th>Contacts_Count_12_mon</th>\n",
              "      <th>Credit_Limit</th>\n",
              "      <th>Total_Revolving_Bal</th>\n",
              "      <th>Avg_Open_To_Buy</th>\n",
              "      <th>Total_Amt_Chng_Q4_Q1</th>\n",
              "      <th>Total_Trans_Amt</th>\n",
              "      <th>Total_Trans_Ct</th>\n",
              "      <th>Total_Ct_Chng_Q4_Q1</th>\n",
              "      <th>Avg_Utilization_Ratio</th>\n",
              "      <th>Prediction</th>\n",
              "    </tr>\n",
              "  </thead>\n",
              "  <tbody>\n",
              "    <tr>\n",
              "      <th>12291</th>\n",
              "      <td>77892545</td>\n",
              "      <td>54</td>\n",
              "      <td>M</td>\n",
              "      <td>3</td>\n",
              "      <td>High School</td>\n",
              "      <td>Married</td>\n",
              "      <td>0</td>\n",
              "      <td>43</td>\n",
              "      <td>4</td>\n",
              "      <td>1</td>\n",
              "      <td>1</td>\n",
              "      <td>13219.011476</td>\n",
              "      <td>0</td>\n",
              "      <td>13219.004344</td>\n",
              "      <td>0.593912</td>\n",
              "      <td>1097</td>\n",
              "      <td>24</td>\n",
              "      <td>0.48797</td>\n",
              "      <td>0.011239</td>\n",
              "      <td>0</td>\n",
              "    </tr>\n",
              "  </tbody>\n",
              "</table>\n",
              "</div>"
            ],
            "text/plain": [
              "       CustomerID  Customer_Age  ... Avg_Utilization_Ratio  Prediction\n",
              "12291    77892545            54  ...              0.011239           0\n",
              "\n",
              "[1 rows x 20 columns]"
            ]
          },
          "metadata": {
            "tags": []
          },
          "execution_count": 45
        }
      ]
    },
    {
      "cell_type": "code",
      "metadata": {
        "colab": {
          "base_uri": "https://localhost:8080/",
          "height": 100
        },
        "id": "OzAfPCJAo1Vn",
        "outputId": "63ae080a-eda5-48dc-80ff-fa7c63048fba"
      },
      "source": [
        "\n",
        "df[df['CustomerID'] == 77910120]"
      ],
      "execution_count": null,
      "outputs": [
        {
          "output_type": "execute_result",
          "data": {
            "text/html": [
              "<div>\n",
              "<style scoped>\n",
              "    .dataframe tbody tr th:only-of-type {\n",
              "        vertical-align: middle;\n",
              "    }\n",
              "\n",
              "    .dataframe tbody tr th {\n",
              "        vertical-align: top;\n",
              "    }\n",
              "\n",
              "    .dataframe thead th {\n",
              "        text-align: right;\n",
              "    }\n",
              "</style>\n",
              "<table border=\"1\" class=\"dataframe\">\n",
              "  <thead>\n",
              "    <tr style=\"text-align: right;\">\n",
              "      <th></th>\n",
              "      <th>CustomerID</th>\n",
              "      <th>Customer_Age</th>\n",
              "      <th>Gender</th>\n",
              "      <th>Dependent_count</th>\n",
              "      <th>Education_Level</th>\n",
              "      <th>Marital_Status</th>\n",
              "      <th>Income_Category</th>\n",
              "      <th>Months_on_book</th>\n",
              "      <th>Total_Relationship_Count</th>\n",
              "      <th>Months_Inactive_12_mon</th>\n",
              "      <th>Contacts_Count_12_mon</th>\n",
              "      <th>Credit_Limit</th>\n",
              "      <th>Total_Revolving_Bal</th>\n",
              "      <th>Avg_Open_To_Buy</th>\n",
              "      <th>Total_Amt_Chng_Q4_Q1</th>\n",
              "      <th>Total_Trans_Amt</th>\n",
              "      <th>Total_Trans_Ct</th>\n",
              "      <th>Total_Ct_Chng_Q4_Q1</th>\n",
              "      <th>Avg_Utilization_Ratio</th>\n",
              "      <th>Prediction</th>\n",
              "    </tr>\n",
              "  </thead>\n",
              "  <tbody>\n",
              "    <tr>\n",
              "      <th>8703</th>\n",
              "      <td>77910120</td>\n",
              "      <td>65</td>\n",
              "      <td>F</td>\n",
              "      <td>0</td>\n",
              "      <td>Graduate</td>\n",
              "      <td>Unknown</td>\n",
              "      <td>5</td>\n",
              "      <td>36</td>\n",
              "      <td>3</td>\n",
              "      <td>3</td>\n",
              "      <td>4</td>\n",
              "      <td>2025.007335</td>\n",
              "      <td>1701</td>\n",
              "      <td>324.011241</td>\n",
              "      <td>0.619158</td>\n",
              "      <td>4056</td>\n",
              "      <td>71</td>\n",
              "      <td>0.589509</td>\n",
              "      <td>0.821387</td>\n",
              "      <td>5</td>\n",
              "    </tr>\n",
              "  </tbody>\n",
              "</table>\n",
              "</div>"
            ],
            "text/plain": [
              "      CustomerID  Customer_Age  ... Avg_Utilization_Ratio  Prediction\n",
              "8703    77910120            65  ...              0.821387           5\n",
              "\n",
              "[1 rows x 20 columns]"
            ]
          },
          "metadata": {
            "tags": []
          },
          "execution_count": 46
        }
      ]
    }
  ]
}